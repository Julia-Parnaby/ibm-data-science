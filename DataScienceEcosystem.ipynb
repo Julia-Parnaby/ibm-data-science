{
 "cells": [
  {
   "cell_type": "markdown",
   "id": "9088084a-3be5-410c-adab-1e689b246388",
   "metadata": {},
   "source": [
    "# Data Science Tools and Ecosystem"
   ]
  },
  {
   "cell_type": "markdown",
   "id": "b1976c2f-fff6-46d0-93d3-470a748e192d",
   "metadata": {},
   "source": [
    "In this notebook, I will share information about data science tools and their ecosystem."
   ]
  },
  {
   "cell_type": "markdown",
   "id": "062c802f-f7dd-4530-a1d2-498029fbd7a3",
   "metadata": {},
   "source": [
    "Objectives:\n",
    "* List popular languages for data science.\n",
    "* List common data science libraries.\n",
    "* List some data science tools.\n",
    "* Show some maths using Python."
   ]
  },
  {
   "cell_type": "markdown",
   "id": "2941d4f6-a1b9-470d-b9f2-daecb8b2c58e",
   "metadata": {},
   "source": [
    "Some of the popular languages that Data Scientists use are:\n",
    "\n",
    "1. Python\n",
    "2. R\n",
    "3. C\n",
    "4. C++\n",
    "5. Julia"
   ]
  },
  {
   "cell_type": "markdown",
   "id": "5d64b610-5a8b-42fe-803e-f49cfbbe4570",
   "metadata": {},
   "source": [
    "Some of the common libraries that Data Scientists use are:\n",
    "\n",
    "1. Matplotlib\n",
    "2. Pandas\n",
    "3. NumPy\n",
    "4. Beautiful Soup"
   ]
  },
  {
   "cell_type": "markdown",
   "id": "9b86ed9b-4ba6-4a5d-8414-374aa2caaa41",
   "metadata": {
    "tags": []
   },
   "source": [
    "| Data Science Tools |\n",
    "| ------------------ |\n",
    "| Jupyter Notebooks |\n",
    "| Jupyter Lab|\n",
    "| R Studio |"
   ]
  },
  {
   "cell_type": "markdown",
   "id": "a93ed38c-4c54-417e-998c-abdc7b07f18b",
   "metadata": {},
   "source": [
    "### Examples of evaluating arithmetic expressions in Python"
   ]
  },
  {
   "cell_type": "code",
   "execution_count": 25,
   "id": "949e731f-66d8-4fce-a1f2-0785dfc68b38",
   "metadata": {
    "tags": []
   },
   "outputs": [
    {
     "data": {
      "text/plain": [
       "17"
      ]
     },
     "execution_count": 25,
     "metadata": {},
     "output_type": "execute_result"
    }
   ],
   "source": [
    "# This is a simple arithmetic expression to multiply and then add integers\n",
    "(3*4)+5"
   ]
  },
  {
   "cell_type": "code",
   "execution_count": 26,
   "id": "0b11ebcc-735a-470a-bda7-f32e65589b25",
   "metadata": {
    "tags": []
   },
   "outputs": [
    {
     "data": {
      "text/plain": [
       "3.3333333333333335"
      ]
     },
     "execution_count": 26,
     "metadata": {},
     "output_type": "execute_result"
    }
   ],
   "source": [
    "# This code converts 200 minutes into hours by dividing by 60\n",
    "200/60"
   ]
  },
  {
   "cell_type": "markdown",
   "id": "45aaa33e-693a-4c0e-9d80-5ce96c7fb3c8",
   "metadata": {},
   "source": [
    "## Author:\n",
    "\n",
    "Julia Parnaby"
   ]
  },
  {
   "cell_type": "code",
   "execution_count": null,
   "id": "68fb0485-94ce-45cc-bb6b-f563199d166e",
   "metadata": {},
   "outputs": [],
   "source": []
  }
 ],
 "metadata": {
  "kernelspec": {
   "display_name": "Python 3 (ipykernel)",
   "language": "python",
   "name": "python3"
  },
  "language_info": {
   "codemirror_mode": {
    "name": "ipython",
    "version": 3
   },
   "file_extension": ".py",
   "mimetype": "text/x-python",
   "name": "python",
   "nbconvert_exporter": "python",
   "pygments_lexer": "ipython3",
   "version": "3.11.8"
  }
 },
 "nbformat": 4,
 "nbformat_minor": 5
}
